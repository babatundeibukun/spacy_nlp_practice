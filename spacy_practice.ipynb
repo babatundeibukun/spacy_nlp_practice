{
  "nbformat": 4,
  "nbformat_minor": 0,
  "metadata": {
    "colab": {
      "provenance": []
    },
    "kernelspec": {
      "name": "python3",
      "display_name": "Python 3"
    },
    "language_info": {
      "name": "python"
    }
  },
  "cells": [
    {
      "cell_type": "code",
      "source": [
        "import spacy"
      ],
      "metadata": {
        "id": "Xrpw4R6LUy-h"
      },
      "execution_count": 2,
      "outputs": []
    },
    {
      "cell_type": "code",
      "execution_count": 3,
      "metadata": {
        "id": "DWNwFCMpRQ2M"
      },
      "outputs": [],
      "source": [
        "nlp=spacy.load('en_core_web_sm')"
      ]
    },
    {
      "cell_type": "code",
      "source": [
        "text='''\n",
        "Look for data to help you address the question. Governments are good\n",
        "sources because data from public research is often freely available. Good\n",
        "places to start include http://www.data.gov/, and http://www.science.\n",
        "gov/, and in the United Kingdom, http://data.gov.uk/.\n",
        "Two of my favorite data sets are the General Social Survey at http://www3.norc.org/gss+website/,\n",
        "and the European Social Survey at http://www.europeansocialsurvey.org/.\n",
        "'''\n",
        "\n",
        "# TODO: Write code here\n",
        "doc=nlp(text)\n",
        "urls=[]\n",
        "for token in doc:\n",
        "  if token.like_url:\n",
        "    urls.append(token.text)\n",
        "urls\n",
        "\n",
        "\n",
        "# Hint: token has an attribute that can be used to detect a url"
      ],
      "metadata": {
        "colab": {
          "base_uri": "https://localhost:8080/"
        },
        "id": "-4t-ht9bUgLE",
        "outputId": "93295230-1a75-4890-c9a0-68f03e57a071"
      },
      "execution_count": 10,
      "outputs": [
        {
          "output_type": "execute_result",
          "data": {
            "text/plain": [
              "['http://www.data.gov/',\n",
              " 'http://www.science',\n",
              " 'http://data.gov.uk/.',\n",
              " 'http://www3.norc.org/gss+website/',\n",
              " 'http://www.europeansocialsurvey.org/.']"
            ]
          },
          "metadata": {},
          "execution_count": 10
        }
      ]
    },
    {
      "cell_type": "code",
      "source": [
        "transactions = \"Tony gave two $ to Peter, Bruce gave 500 € to Steve\"\n",
        "\n",
        "# TODO: Write code here\n",
        "# Hint: Use token.i for the index of a token and token.is_currency for curre\n",
        "\n",
        "\n",
        "nlp=spacy.load('en_core_web_sm')\n",
        "doc=nlp(transactions)\n",
        "cash=[]\n",
        "\n",
        "for token in doc:\n",
        "  if token.like_num and doc[token.i+1].is_currency:\n",
        "    print(token.text, doc[token.i+1])\n"
      ],
      "metadata": {
        "colab": {
          "base_uri": "https://localhost:8080/"
        },
        "id": "M8QoJNCHWqnZ",
        "outputId": "c72a74f6-0f63-40d2-94eb-efc4daee2f23"
      },
      "execution_count": 16,
      "outputs": [
        {
          "output_type": "stream",
          "name": "stdout",
          "text": [
            "two $\n",
            "500 €\n"
          ]
        }
      ]
    }
  ]
}